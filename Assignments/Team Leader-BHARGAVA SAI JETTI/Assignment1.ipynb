{
  "nbformat": 4,
  "nbformat_minor": 0,
  "metadata": {
    "colab": {
      "provenance": [],
      "authorship_tag": "ABX9TyPimBNh3PVzWSV/1ODX5Tle",
      "include_colab_link": true
    },
    "kernelspec": {
      "name": "python3",
      "display_name": "Python 3"
    },
    "language_info": {
      "name": "python"
    }
  },
  "cells": [
    {
      "cell_type": "markdown",
      "metadata": {
        "id": "view-in-github",
        "colab_type": "text"
      },
      "source": [
        "<a href=\"https://colab.research.google.com/github/BhargavaSaiJetti/Artificial-Intelligence-and-Machine-Learning-/blob/main/Assignment1.ipynb\" target=\"_parent\"><img src=\"https://colab.research.google.com/assets/colab-badge.svg\" alt=\"Open In Colab\"/></a>"
      ]
    },
    {
      "cell_type": "markdown",
      "source": [
        "##Task 1- Create two lists and join those two lists"
      ],
      "metadata": {
        "id": "6YCNT6dM5Vd4"
      }
    },
    {
      "cell_type": "code",
      "source": [
        "test_list1=[12,14,16,18,20]\n",
        "test_list2=[1,3,5,17,19]"
      ],
      "metadata": {
        "id": "wngeWDIV5TvS"
      },
      "execution_count": 1,
      "outputs": []
    },
    {
      "cell_type": "code",
      "source": [
        "joined=test_list1+test_list2"
      ],
      "metadata": {
        "id": "oskUuMKp5hcP"
      },
      "execution_count": 2,
      "outputs": []
    },
    {
      "cell_type": "code",
      "execution_count": 3,
      "metadata": {
        "colab": {
          "base_uri": "https://localhost:8080/"
        },
        "id": "J0vlf2s65E3s",
        "outputId": "6680b27c-0909-4fc0-cdb7-a0dd30f2b6a3"
      },
      "outputs": [
        {
          "output_type": "stream",
          "name": "stdout",
          "text": [
            "Joined list :  [12, 14, 16, 18, 20, 1, 3, 5, 17, 19]\n"
          ]
        }
      ],
      "source": [
        "print(\"Joined list : \",joined)"
      ]
    },
    {
      "cell_type": "markdown",
      "source": [
        "#Task 2 - With 'if' statement find the even numbers"
      ],
      "metadata": {
        "id": "OR8Utopb6Pc_"
      }
    },
    {
      "cell_type": "code",
      "source": [
        "a=int(input(\"Enter value of a : \"))\n",
        "if(a%2==0):\n",
        "  print(\"Even\")\n",
        "else:\n",
        "      print(\"Odd\")"
      ],
      "metadata": {
        "colab": {
          "base_uri": "https://localhost:8080/"
        },
        "id": "eaXX91lK6Wm3",
        "outputId": "e158fd8e-227f-4fce-e4de-3dbfa49eac01"
      },
      "execution_count": 5,
      "outputs": [
        {
          "output_type": "stream",
          "name": "stdout",
          "text": [
            "Enter value of a : 118\n",
            "Even\n"
          ]
        }
      ]
    },
    {
      "cell_type": "markdown",
      "source": [
        "#Task 3 - Create dictionary with 3 keys & 2 values for each key"
      ],
      "metadata": {
        "id": "g-FYTGHg6kJx"
      }
    },
    {
      "cell_type": "code",
      "source": [
        "dictionary={'FirstKey':[10,12],\n",
        "      'SecondKey':[1,2],\n",
        "            'ThirdKey':[14,15]}"
      ],
      "metadata": {
        "id": "K4xdy5AK6qO2"
      },
      "execution_count": 6,
      "outputs": []
    },
    {
      "cell_type": "code",
      "source": [
        "ValueCheck=dictionary['SecondKey']"
      ],
      "metadata": {
        "id": "tMF8df0f61AI"
      },
      "execution_count": 7,
      "outputs": []
    },
    {
      "cell_type": "code",
      "source": [
        "print(ValueCheck)"
      ],
      "metadata": {
        "colab": {
          "base_uri": "https://localhost:8080/"
        },
        "id": "hdHRHg7D68rl",
        "outputId": "20cd4d05-59d2-4434-b8b5-3474eeb56cdb"
      },
      "execution_count": 8,
      "outputs": [
        {
          "output_type": "stream",
          "name": "stdout",
          "text": [
            "[1, 2]\n"
          ]
        }
      ]
    },
    {
      "cell_type": "markdown",
      "source": [
        "Clearly the key has two values"
      ],
      "metadata": {
        "id": "9UaIedLA7GQy"
      }
    },
    {
      "cell_type": "markdown",
      "source": [
        "#Task 4 - Create a function with 'if' statement which is used to find the odd numbers"
      ],
      "metadata": {
        "id": "Ci4qd9vZ7Mnv"
      }
    },
    {
      "cell_type": "code",
      "source": [
        "b=int(input(\"Enter value of b : \"))\n",
        "if((b%2)==0):\n",
        "  print(\"Even\")\n",
        "else:\n",
        "    print(\"Odd\")"
      ],
      "metadata": {
        "colab": {
          "base_uri": "https://localhost:8080/"
        },
        "id": "KucgNluK7SBa",
        "outputId": "43d59f03-a5d9-44ec-a538-b1e02a4e5fa3"
      },
      "execution_count": 9,
      "outputs": [
        {
          "output_type": "stream",
          "name": "stdout",
          "text": [
            "Enter value of b : 171\n",
            "Odd\n"
          ]
        }
      ]
    },
    {
      "cell_type": "markdown",
      "source": [
        "#Task 5 - Write a Python function to sum all the numbers in a list\n",
        "Sample list : (8,2,3,0,7)\n",
        "Expected Output:20"
      ],
      "metadata": {
        "id": "eZObVXvx7dQn"
      }
    },
    {
      "cell_type": "code",
      "source": [
        "list=[8,2,3,0,7]"
      ],
      "metadata": {
        "id": "LVUgfZj17i7o"
      },
      "execution_count": 10,
      "outputs": []
    },
    {
      "cell_type": "code",
      "source": [
        "total=sum(list)"
      ],
      "metadata": {
        "id": "t6pyQ3RK7qFn"
      },
      "execution_count": 11,
      "outputs": []
    },
    {
      "cell_type": "code",
      "source": [
        "print(\"The sum of list is : \",total)"
      ],
      "metadata": {
        "colab": {
          "base_uri": "https://localhost:8080/"
        },
        "id": "fU897lXD7vUZ",
        "outputId": "060f9918-829b-41c3-adc5-c10f2479e583"
      },
      "execution_count": 12,
      "outputs": [
        {
          "output_type": "stream",
          "name": "stdout",
          "text": [
            "The sum of list is :  20\n"
          ]
        }
      ]
    }
  ]
}