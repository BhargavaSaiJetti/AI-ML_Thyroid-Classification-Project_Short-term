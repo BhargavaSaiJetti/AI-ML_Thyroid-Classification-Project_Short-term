{
  "nbformat": 4,
  "nbformat_minor": 0,
  "metadata": {
    "colab": {
      "provenance": [],
      "authorship_tag": "ABX9TyOLjRMpROEsbHBuBDivG7P5",
      "include_colab_link": true
    },
    "kernelspec": {
      "name": "python3",
      "display_name": "Python 3"
    },
    "language_info": {
      "name": "python"
    }
  },
  "cells": [
    {
      "cell_type": "markdown",
      "metadata": {
        "id": "view-in-github",
        "colab_type": "text"
      },
      "source": [
        "<a href=\"https://colab.research.google.com/github/BhargavaSaiJetti/Artificial-Intelligence-and-Machine-Learning-/blob/main/Assignment1.ipynb\" target=\"_parent\"><img src=\"https://colab.research.google.com/assets/colab-badge.svg\" alt=\"Open In Colab\"/></a>"
      ]
    },
    {
      "cell_type": "code",
      "execution_count": 2,
      "metadata": {
        "id": "pg9bka1lu8lI"
      },
      "outputs": [],
      "source": [
        "# Task1-Create two lists and join those two lists"
      ]
    },
    {
      "cell_type": "code",
      "source": [
        "test_list1 = [1,14,15,6,5]"
      ],
      "metadata": {
        "id": "X-SzTSONvXuS"
      },
      "execution_count": 1,
      "outputs": []
    },
    {
      "cell_type": "code",
      "source": [
        "test_list2 = [3,4,7,12,51]"
      ],
      "metadata": {
        "id": "L2W-wOuav8oK"
      },
      "execution_count": 3,
      "outputs": []
    },
    {
      "cell_type": "code",
      "source": [
        "test_list3 = test_list1 + test_list2"
      ],
      "metadata": {
        "id": "hK55JRoCw04j"
      },
      "execution_count": 4,
      "outputs": []
    },
    {
      "cell_type": "code",
      "source": [
        "print('Joined list : '+str(test_list3))"
      ],
      "metadata": {
        "colab": {
          "base_uri": "https://localhost:8080/"
        },
        "id": "17ueBKKTw-ol",
        "outputId": "e4a9e42d-aaf7-427c-b1d4-16c40cf1a18d"
      },
      "execution_count": 5,
      "outputs": [
        {
          "output_type": "stream",
          "name": "stdout",
          "text": [
            "Joined list : [1, 14, 15, 6, 5, 3, 4, 7, 12, 51]\n"
          ]
        }
      ]
    },
    {
      "cell_type": "code",
      "source": [
        "# Task2 - With 'if' statement find the even numbers"
      ],
      "metadata": {
        "id": "ikIu743XxdJO"
      },
      "execution_count": 6,
      "outputs": []
    },
    {
      "cell_type": "code",
      "source": [
        "a = int(input(\"Enter a : \"))\n",
        "if((a%2)==0):\n",
        "  print(\"even\")\n",
        "else:\n",
        "    print(\"odd\")"
      ],
      "metadata": {
        "colab": {
          "base_uri": "https://localhost:8080/"
        },
        "id": "LsInK7i15ka_",
        "outputId": "afcc0e44-7b6a-4057-8d5d-8e33c9b31204"
      },
      "execution_count": 21,
      "outputs": [
        {
          "output_type": "stream",
          "name": "stdout",
          "text": [
            "Enter a : 20\n",
            "even\n"
          ]
        }
      ]
    },
    {
      "cell_type": "code",
      "source": [
        "# Task3-Create a dictionary with 3 keys and 2 values for each key"
      ],
      "metadata": {
        "id": "b3vl9Heu65jo"
      },
      "execution_count": 22,
      "outputs": []
    },
    {
      "cell_type": "code",
      "source": [
        "demo = {'first':[1,2],\n",
        "        'second':[3,4],\n",
        "        'third':[5,6]}"
      ],
      "metadata": {
        "id": "WYvM8exz7HF7"
      },
      "execution_count": 24,
      "outputs": []
    },
    {
      "cell_type": "code",
      "source": [
        "example=demo['first']"
      ],
      "metadata": {
        "id": "0YniRn9A8VBk"
      },
      "execution_count": 26,
      "outputs": []
    },
    {
      "cell_type": "code",
      "source": [
        "print(example)"
      ],
      "metadata": {
        "colab": {
          "base_uri": "https://localhost:8080/"
        },
        "id": "Lr0ZPtSo8h9R",
        "outputId": "8bd10418-f0aa-4455-8cce-27dd6da63ca0"
      },
      "execution_count": 27,
      "outputs": [
        {
          "output_type": "stream",
          "name": "stdout",
          "text": [
            "[1, 2]\n"
          ]
        }
      ]
    },
    {
      "cell_type": "code",
      "source": [
        "# Task4-Create a function with 'if' statement to find odd numbers"
      ],
      "metadata": {
        "id": "wilPXzUS8oeG"
      },
      "execution_count": 28,
      "outputs": []
    },
    {
      "cell_type": "code",
      "source": [
        "b=int(input(\"Enter b :\"))\n",
        "if((b%2)==0):\n",
        "  print(\"Not Odd\")\n",
        "else:\n",
        "  print(\"It is Odd\")\n"
      ],
      "metadata": {
        "colab": {
          "base_uri": "https://localhost:8080/"
        },
        "id": "qtE6n2gP9XNS",
        "outputId": "6a70167e-9295-4a5d-9613-288c8520ccdd"
      },
      "execution_count": 30,
      "outputs": [
        {
          "output_type": "stream",
          "name": "stdout",
          "text": [
            "Enter b :13\n",
            "It is Odd\n"
          ]
        }
      ]
    },
    {
      "cell_type": "code",
      "source": [
        "# Task5-Write a python function to sum all the numbers in the list"
      ],
      "metadata": {
        "id": "6CRtxZ19-cM7"
      },
      "execution_count": 31,
      "outputs": []
    },
    {
      "cell_type": "code",
      "source": [
        "list1=[8,2,3,0,7]"
      ],
      "metadata": {
        "id": "D_7cJmf9BmRj"
      },
      "execution_count": 32,
      "outputs": []
    },
    {
      "cell_type": "code",
      "source": [
        "total=sum(list1)"
      ],
      "metadata": {
        "id": "faZsyr8hBxah"
      },
      "execution_count": 33,
      "outputs": []
    },
    {
      "cell_type": "code",
      "source": [
        "print(\"The sum of list is : \",total)"
      ],
      "metadata": {
        "colab": {
          "base_uri": "https://localhost:8080/"
        },
        "id": "s7PPaD7gB577",
        "outputId": "2facce93-508e-4bf0-9f14-87df724a7c98"
      },
      "execution_count": 34,
      "outputs": [
        {
          "output_type": "stream",
          "name": "stdout",
          "text": [
            "The sum of list is :  20\n"
          ]
        }
      ]
    }
  ]
}